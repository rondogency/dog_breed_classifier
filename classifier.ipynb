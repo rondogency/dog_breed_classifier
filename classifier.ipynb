{
 "cells": [
  {
   "cell_type": "code",
   "execution_count": 1,
   "metadata": {},
   "outputs": [],
   "source": [
    "import mxnet as mx\n",
    "from mxnet import autograd\n",
    "from mxnet import gluon\n",
    "from mxnet import image\n",
    "from mxnet import init\n",
    "from mxnet import nd\n",
    "from mxnet.gluon import nn\n",
    "from mxnet.gluon.data import vision\n",
    "from mxnet.gluon.model_zoo import vision as models\n",
    "import numpy as np\n",
    "from tqdm import tqdm\n",
    "import os\n",
    "import matplotlib.pyplot as plt\n",
    "from sklearn.model_selection import train_test_split"
   ]
  },
  {
   "cell_type": "code",
   "execution_count": 2,
   "metadata": {},
   "outputs": [],
   "source": [
    "%matplotlib inline\n",
    "%config InlineBackend.figure_format = 'retina'"
   ]
  },
  {
   "cell_type": "code",
   "execution_count": 3,
   "metadata": {},
   "outputs": [],
   "source": [
    "features_train_vgg19_bn = np.load(\"model_stanford/features_vgg19_bn_train.npy\")\n",
    "features_train_resnet152 = np.load(\"model_stanford/features_resnet152_train.npy\")\n",
    "features_train_inceptionv3 = np.load(\"model_stanford/features_inceptionv3_train.npy\")\n",
    "features_train_densenet201 = np.load(\"model_stanford/features_densenet201_train.npy\")"
   ]
  },
  {
   "cell_type": "code",
   "execution_count": 4,
   "metadata": {},
   "outputs": [],
   "source": [
    "features_train = np.concatenate((features_train_vgg19_bn, features_train_resnet152, features_train_inceptionv3, features_train_densenet201), axis=-1)\n",
    "ytargets_train = np.load(\"model_stanford/ytargets_train.npy\")"
   ]
  },
  {
   "cell_type": "code",
   "execution_count": 5,
   "metadata": {},
   "outputs": [],
   "source": [
    "ctx = mx.gpu()\n",
    "batch_size = 64\n",
    "X_train, X_test, Y_train, Y_test = train_test_split(features_train, ytargets_train, test_size=0.1)\n",
    "data_iter_train = gluon.data.DataLoader(gluon.data.ArrayDataset(X_train, Y_train), batch_size, shuffle=True)\n",
    "data_iter_test = gluon.data.DataLoader(gluon.data.ArrayDataset(X_test, Y_test), batch_size, shuffle=True)"
   ]
  },
  {
   "cell_type": "code",
   "execution_count": 6,
   "metadata": {},
   "outputs": [],
   "source": [
    "def build_model():\n",
    "    net = nn.Sequential()\n",
    "    with net.name_scope():\n",
    "        net.add(nn.BatchNorm())\n",
    "        net.add(nn.Dense(1024))\n",
    "        net.add(nn.BatchNorm())\n",
    "        net.add(nn.Activation('relu'))\n",
    "        net.add(nn.Dropout(0.5))\n",
    "        net.add(nn.Dense(120))\n",
    "\n",
    "    net.initialize(ctx=ctx)\n",
    "    return net"
   ]
  },
  {
   "cell_type": "code",
   "execution_count": 7,
   "metadata": {},
   "outputs": [
    {
     "name": "stdout",
     "output_type": "stream",
     "text": [
      "Epoch 1. Loss: 1.0105. Accuracy: 0.7330\n",
      "Epoch 2. Loss: 0.4295. Accuracy: 0.8011\n",
      "Epoch 3. Loss: 0.3066. Accuracy: 0.8349\n",
      "Epoch 4. Loss: 0.2240. Accuracy: 0.8580\n",
      "Epoch 5. Loss: 0.1684. Accuracy: 0.8756\n",
      "Epoch 6. Loss: 0.1035. Accuracy: 0.8909\n",
      "Epoch 7. Loss: 0.0674. Accuracy: 0.9038\n",
      "Epoch 8. Loss: 0.0538. Accuracy: 0.9140\n",
      "Epoch 9. Loss: 0.0440. Accuracy: 0.9223\n",
      "Epoch 10. Loss: 0.0374. Accuracy: 0.9291\n",
      "Epoch 11. Loss: 0.0273. Accuracy: 0.9351\n",
      "Epoch 12. Loss: 0.0226. Accuracy: 0.9401\n",
      "Epoch 13. Loss: 0.0187. Accuracy: 0.9445\n",
      "Epoch 14. Loss: 0.0165. Accuracy: 0.9483\n",
      "Epoch 15. Loss: 0.0147. Accuracy: 0.9516\n",
      "Epoch 16. Loss: 0.0129. Accuracy: 0.9545\n",
      "Epoch 17. Loss: 0.0104. Accuracy: 0.9571\n",
      "Epoch 18. Loss: 0.0099. Accuracy: 0.9594\n",
      "Epoch 19. Loss: 0.0078. Accuracy: 0.9615\n",
      "Epoch 20. Loss: 0.0083. Accuracy: 0.9633\n",
      "Epoch 21. Loss: 0.0071. Accuracy: 0.9651\n",
      "Epoch 22. Loss: 0.0063. Accuracy: 0.9666\n",
      "Epoch 23. Loss: 0.0059. Accuracy: 0.9681\n",
      "Epoch 24. Loss: 0.0058. Accuracy: 0.9694\n",
      "Epoch 25. Loss: 0.0054. Accuracy: 0.9706\n"
     ]
    }
   ],
   "source": [
    "net = build_model()\n",
    "\n",
    "softmax_cross_entropy = gluon.loss.SoftmaxCrossEntropyLoss()\n",
    "lr_sch = mx.lr_scheduler.FactorScheduler(step=1500, factor=0.5)\n",
    "trainer = gluon.Trainer(net.collect_params(), 'adam', {'learning_rate': 1e-3, 'lr_scheduler': lr_sch})\n",
    "acc = mx.metric.Accuracy()\n",
    "\n",
    "# train loop\n",
    "epochs = 25\n",
    "steps = len(data_iter_train)\n",
    "for epoch in range(epochs):\n",
    "    train_loss = 0\n",
    "    for data, label in data_iter_train:\n",
    "        data, label = data.as_in_context(ctx), label.as_in_context(ctx)\n",
    "        with autograd.record():\n",
    "            output = net(data)\n",
    "            loss = softmax_cross_entropy(output, label)\n",
    "        loss.backward()\n",
    "        trainer.step(batch_size)\n",
    "\n",
    "        train_loss += nd.mean(loss).asscalar()\n",
    "        predictions = nd.argmax(output, axis=1)\n",
    "        acc.update(preds=predictions, labels=label.as_in_context(ctx))\n",
    "\n",
    "    print(\"Epoch %d. Loss: %.4f. Accuracy: %.4f\" % (epoch+1, train_loss/steps, acc.get()[1]))"
   ]
  },
  {
   "cell_type": "code",
   "execution_count": 8,
   "metadata": {},
   "outputs": [
    {
     "name": "stdout",
     "output_type": "stream",
     "text": [
      "Test Loss: 0.0607. Accuracy: 0.9702\n"
     ]
    }
   ],
   "source": [
    "# test loop\n",
    "test_loss = 0\n",
    "for data, label in data_iter_test:\n",
    "    data, label = data.as_in_context(ctx), label.as_in_context(ctx)\n",
    "    output = net(data)\n",
    "    test_loss += nd.mean(softmax_cross_entropy(output, label)).asscalar()\n",
    "    predictions = nd.argmax(output, axis=1)\n",
    "    acc.update(preds=predictions, labels=label)\n",
    "print(\"Test Loss: %.4f. Accuracy: %.4f\" % (test_loss/steps, acc.get()[1]))"
   ]
  }
 ],
 "metadata": {
  "kernelspec": {
   "display_name": "Python 3",
   "language": "python",
   "name": "python3"
  },
  "language_info": {
   "codemirror_mode": {
    "name": "ipython",
    "version": 3
   },
   "file_extension": ".py",
   "mimetype": "text/x-python",
   "name": "python",
   "nbconvert_exporter": "python",
   "pygments_lexer": "ipython3",
   "version": "3.6.5"
  }
 },
 "nbformat": 4,
 "nbformat_minor": 2
}
