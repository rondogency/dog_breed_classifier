{
 "cells": [
  {
   "cell_type": "code",
   "execution_count": 1,
   "metadata": {},
   "outputs": [],
   "source": [
    "import os\n",
    "from tqdm import tqdm\n",
    "import numpy as np\n",
    "import torch\n",
    "import torch.nn as nn\n",
    "import torch.nn.functional as F\n",
    "import torch.optim as optim\n",
    "from torch.optim import lr_scheduler\n",
    "from torchvision import transforms, datasets, models, utils\n",
    "import pretrainedmodels\n",
    "from tqdm import tqdm"
   ]
  },
  {
   "cell_type": "code",
   "execution_count": 2,
   "metadata": {},
   "outputs": [],
   "source": [
    "data_dir = './Images/'\n",
    "use_cuda = True\n",
    "device_gpu = torch.device(\"cuda\")\n",
    "device_cpu = torch.device(\"cpu\")\n",
    "batch_size = 64"
   ]
  },
  {
   "cell_type": "code",
   "execution_count": 3,
   "metadata": {},
   "outputs": [],
   "source": [
    "transform_train = transforms.Compose([\n",
    "    transforms.RandomResizedCrop(224),\n",
    "    transforms.RandomHorizontalFlip(),\n",
    "    transforms.RandomRotation(20),\n",
    "    transforms.ToTensor(),\n",
    "    transforms.Normalize([0.485, 0.456, 0.406], [0.229, 0.224, 0.225])\n",
    "])\n",
    "\n",
    "transform_test = transforms.Compose([\n",
    "    transforms.RandomResizedCrop(299),\n",
    "    transforms.ToTensor(),\n",
    "    transforms.Normalize([0.485, 0.456, 0.406], [0.229, 0.224, 0.225])\n",
    "])\n",
    "\n",
    "transform_train_299 = transforms.Compose([\n",
    "    transforms.RandomResizedCrop(299),\n",
    "    transforms.RandomHorizontalFlip(),\n",
    "    transforms.RandomRotation(20),\n",
    "    transforms.ToTensor(),\n",
    "    transforms.Normalize([0.485, 0.456, 0.406], [0.229, 0.224, 0.225])\n",
    "])\n",
    "\n",
    "transform_test_299 = transforms.Compose([\n",
    "    transforms.RandomResizedCrop(299),\n",
    "    transforms.ToTensor(),\n",
    "    transforms.Normalize([0.485, 0.456, 0.406], [0.229, 0.224, 0.225])\n",
    "])"
   ]
  },
  {
   "cell_type": "code",
   "execution_count": 4,
   "metadata": {},
   "outputs": [],
   "source": [
    "train_dataset = datasets.ImageFolder(data_dir, transform=transform_train)\n",
    "train_dataset_299 = datasets.ImageFolder(data_dir, transform=transform_train_299)\n",
    "\n",
    "train_dataloader = torch.utils.data.DataLoader(train_dataset, batch_size=batch_size, shuffle=False, drop_last=False)\n",
    "train_dataloader_299 = torch.utils.data.DataLoader(train_dataset_299, batch_size=batch_size, shuffle=False, drop_last=False)"
   ]
  },
  {
   "cell_type": "code",
   "execution_count": 5,
   "metadata": {},
   "outputs": [],
   "source": [
    "def save_features(model_name, dataloader, device, phase):\n",
    "    if model_name.startswith(\"densenet\"):\n",
    "        model = models.__dict__[model_name](pretrained=True)\n",
    "    else:\n",
    "        model = pretrainedmodels.__dict__[model_name](pretrained='imagenet')\n",
    "    \n",
    "    model.to(device)\n",
    "    model.eval()\n",
    "    \n",
    "    features_model_path = \"model_stanford/features_%s_%s.npy\" % (model_name, phase)\n",
    "    ytargets_model_path = \"model_stanford/ytargets_%s.npy\" % (phase)\n",
    "    \n",
    "    features = []\n",
    "    ytargets = []\n",
    "    \n",
    "    with torch.no_grad():\n",
    "        for idx, (data, labels) in tqdm(enumerate(dataloader, 0)):\n",
    "            data, labels = data.to(device), labels.to(device)\n",
    "            \n",
    "            if model_name.startswith('vgg'):\n",
    "                x = model.features(data)\n",
    "            elif model_name.startswith('inception') or model_name.startswith('res') or model_name.startswith('densenet'):\n",
    "                x = model.features(data)\n",
    "                x = F.avg_pool2d(x, kernel_size=x.size(-1), stride=1)\n",
    "                x = x.view(x.size(0), -1)\n",
    "            \n",
    "            features.append(x.cpu().numpy())\n",
    "            ytargets.append(labels.cpu().numpy())\n",
    "    \n",
    "    features = np.concatenate(features, axis=0)\n",
    "    ytargets = np.concatenate(ytargets, axis=0)\n",
    "    print(features.shape, ytargets.shape)\n",
    "    \n",
    "    np.save(features_model_path, features)\n",
    "    if not os.path.exists(ytargets_model_path):\n",
    "        np.save(ytargets_model_path, ytargets)\n",
    "    \n",
    "    del model\n",
    "    torch.cuda.empty_cache()"
   ]
  },
  {
   "cell_type": "code",
   "execution_count": null,
   "metadata": {},
   "outputs": [],
   "source": [
    "save_features(\"resnet152\", train_dataloader, device_gpu, 'train')\n",
    "save_features(\"vgg19_bn\", train_dataloader, device_gpu, 'train')\n",
    "save_features(\"inceptionv3\", train_dataloader_299, device_gpu, 'train')\n",
    "save_features(\"densenet201\", train_dataloader, device_gpu, 'train')"
   ]
  }
 ],
 "metadata": {
  "kernelspec": {
   "display_name": "Python 3",
   "language": "python",
   "name": "python3"
  },
  "language_info": {
   "codemirror_mode": {
    "name": "ipython",
    "version": 3
   },
   "file_extension": ".py",
   "mimetype": "text/x-python",
   "name": "python",
   "nbconvert_exporter": "python",
   "pygments_lexer": "ipython3",
   "version": "3.6.5"
  }
 },
 "nbformat": 4,
 "nbformat_minor": 2
}
